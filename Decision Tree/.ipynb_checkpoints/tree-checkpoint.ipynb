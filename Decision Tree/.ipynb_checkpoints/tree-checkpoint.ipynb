{
 "cells": [
  {
   "cell_type": "markdown",
   "metadata": {},
   "source": [
    "# 以隐形眼镜数据集为例实现决策树"
   ]
  },
  {
   "cell_type": "markdown",
   "metadata": {},
   "source": [
    "#### 导入数据"
   ]
  },
  {
   "cell_type": "code",
   "execution_count": 1,
   "metadata": {},
   "outputs": [
    {
     "data": {
      "text/html": [
       "<div>\n",
       "<style scoped>\n",
       "    .dataframe tbody tr th:only-of-type {\n",
       "        vertical-align: middle;\n",
       "    }\n",
       "\n",
       "    .dataframe tbody tr th {\n",
       "        vertical-align: top;\n",
       "    }\n",
       "\n",
       "    .dataframe thead th {\n",
       "        text-align: right;\n",
       "    }\n",
       "</style>\n",
       "<table border=\"1\" class=\"dataframe\">\n",
       "  <thead>\n",
       "    <tr style=\"text-align: right;\">\n",
       "      <th></th>\n",
       "      <th>age</th>\n",
       "      <th>prescript</th>\n",
       "      <th>astigmatic</th>\n",
       "      <th>tearRate</th>\n",
       "      <th>result</th>\n",
       "    </tr>\n",
       "  </thead>\n",
       "  <tbody>\n",
       "    <tr>\n",
       "      <th>0</th>\n",
       "      <td>young</td>\n",
       "      <td>myope</td>\n",
       "      <td>no</td>\n",
       "      <td>reduced</td>\n",
       "      <td>no lenses</td>\n",
       "    </tr>\n",
       "    <tr>\n",
       "      <th>1</th>\n",
       "      <td>young</td>\n",
       "      <td>myope</td>\n",
       "      <td>no</td>\n",
       "      <td>normal</td>\n",
       "      <td>soft</td>\n",
       "    </tr>\n",
       "    <tr>\n",
       "      <th>2</th>\n",
       "      <td>young</td>\n",
       "      <td>myope</td>\n",
       "      <td>yes</td>\n",
       "      <td>reduced</td>\n",
       "      <td>no lenses</td>\n",
       "    </tr>\n",
       "    <tr>\n",
       "      <th>3</th>\n",
       "      <td>young</td>\n",
       "      <td>myope</td>\n",
       "      <td>yes</td>\n",
       "      <td>normal</td>\n",
       "      <td>hard</td>\n",
       "    </tr>\n",
       "    <tr>\n",
       "      <th>4</th>\n",
       "      <td>young</td>\n",
       "      <td>hyper</td>\n",
       "      <td>no</td>\n",
       "      <td>reduced</td>\n",
       "      <td>no lenses</td>\n",
       "    </tr>\n",
       "  </tbody>\n",
       "</table>\n",
       "</div>"
      ],
      "text/plain": [
       "     age prescript astigmatic tearRate     result\n",
       "0  young     myope         no  reduced  no lenses\n",
       "1  young     myope         no   normal       soft\n",
       "2  young     myope        yes  reduced  no lenses\n",
       "3  young     myope        yes   normal       hard\n",
       "4  young     hyper         no  reduced  no lenses"
      ]
     },
     "execution_count": 1,
     "metadata": {},
     "output_type": "execute_result"
    }
   ],
   "source": [
    "import numpy as np\n",
    "import pandas as pd\n",
    "\n",
    "file_name = 'lenses.txt'\n",
    "data = pd.read_table(file_name, header=None, names=['age', 'prescript', 'astigmatic', 'tearRate', 'result'])\n",
    "data.head(5)"
   ]
  },
  {
   "cell_type": "markdown",
   "metadata": {},
   "source": [
    "#### 向量化特征"
   ]
  },
  {
   "cell_type": "code",
   "execution_count": 2,
   "metadata": {},
   "outputs": [
    {
     "data": {
      "text/plain": [
       "array([[0., 0., 1., 1., 0., 0., 1., 0., 1.],\n",
       "       [0., 0., 1., 1., 0., 0., 1., 1., 0.],\n",
       "       [0., 0., 1., 0., 1., 0., 1., 0., 1.],\n",
       "       [0., 0., 1., 0., 1., 0., 1., 1., 0.],\n",
       "       [0., 0., 1., 1., 0., 1., 0., 0., 1.]])"
      ]
     },
     "execution_count": 2,
     "metadata": {},
     "output_type": "execute_result"
    }
   ],
   "source": [
    "feature = data[['age', 'prescript', 'astigmatic', 'tearRate']]\n",
    "result = data['result']\n",
    "\n",
    "from sklearn.feature_extraction import DictVectorizer\n",
    "vec = DictVectorizer(sparse=False)\n",
    "X_train = vec.fit_transform(feature.to_dict(orient='records'))\n",
    "X_train[:5]"
   ]
  },
  {
   "cell_type": "markdown",
   "metadata": {},
   "source": [
    "#### 输出特征值对应的特征名称及取值"
   ]
  },
  {
   "cell_type": "code",
   "execution_count": 4,
   "metadata": {},
   "outputs": [
    {
     "data": {
      "text/plain": [
       "['age=pre',\n",
       " 'age=presbyopic',\n",
       " 'age=young',\n",
       " 'astigmatic=no',\n",
       " 'astigmatic=yes',\n",
       " 'prescript=hyper',\n",
       " 'prescript=myope',\n",
       " 'tearRate=normal',\n",
       " 'tearRate=reduced']"
      ]
     },
     "execution_count": 4,
     "metadata": {},
     "output_type": "execute_result"
    }
   ],
   "source": [
    "vec.get_feature_names()"
   ]
  },
  {
   "cell_type": "markdown",
   "metadata": {},
   "source": [
    "#### 利用sklearn生成决策树\n",
    "\n",
    "决策树参数说明:\n",
    "- criterion: 分裂节点的评价标准\n",
    "   - gini: 基尼指数\n",
    "   - entropy: 信息增益\n",
    "- splitter: 划分结点的策略\n",
    "   - best: 最优划分\n",
    "   - random: 随机划分\n",
    "- max_depth: 树最大深度，若不指定则划分到全部为叶子节点为止\n",
    "- min_sample_split: 划分一个结点至少需要多少个样本\n",
    "- min_sample_leaf: 每个叶子结点至少需要多少个样本\n",
    "- min_weight_fraction_leaf: 叶子结点中样本的最小权重\n",
    "- max_features: 划分特征时最多需要考虑多少个特征\n",
    "   - int型参数: 指定个数\n",
    "   - float型参数: 向下取整个数\n",
    "   - sqrt或auto: sqrt个\n",
    "   - log2: log2()个\n",
    "   - None: 每次切分考虑n_feature个(即所有特征)\n",
    "   - 若达到max_features个划分还未找到一个有效划分，那么会继续向下寻找\n",
    "- random_state: 随机数生成器, 可指定int型种子、RandomState实例或使用None应用默认种子生成器\n",
    "- max_leaf_nodes: 最大叶结点个数\n",
    "- min_impurity_decrease: 如果节点的分裂导致不纯度的减少(分裂后样本比分裂前更加纯净)大于或等于min_impurity_decrease，则分裂该节点.\n",
    "- min_impurity_split: 已弃用, 使用min_impurity_decrease\n",
    "- class_weight: 各类别的权重\n",
    "   - None: 默认各类别权重均为1\n",
    "   - balance: 与出现频率成反比\n",
    "- presort: 指示是否需要提前排序，对于大数据集可能会减缓运行速度，对于小数据集可能会加快运行速度, 已弃用"
   ]
  },
  {
   "cell_type": "code",
   "execution_count": 8,
   "metadata": {},
   "outputs": [
    {
     "data": {
      "text/plain": [
       "DecisionTreeClassifier()"
      ]
     },
     "execution_count": 8,
     "metadata": {},
     "output_type": "execute_result"
    }
   ],
   "source": [
    "from sklearn import tree\n",
    "\n",
    "clf = tree.DecisionTreeClassifier(criterion=\"gini\",\n",
    "                 splitter=\"best\",\n",
    "                 max_depth=None,\n",
    "                 min_samples_split=2,\n",
    "                 min_samples_leaf=1,\n",
    "                 min_weight_fraction_leaf=0.,\n",
    "                 max_features=None,\n",
    "                 random_state=None,\n",
    "                 max_leaf_nodes=None,\n",
    "                 min_impurity_decrease=0.,\n",
    "                 class_weight=None)\n",
    "y_train = result\n",
    "clf.fit(X_train, y_train)"
   ]
  },
  {
   "cell_type": "markdown",
   "metadata": {},
   "source": [
    "#### 将树输出到文件中"
   ]
  }
 ],
 "metadata": {
  "kernelspec": {
   "display_name": "Python 3",
   "language": "python",
   "name": "python3"
  },
  "language_info": {
   "codemirror_mode": {
    "name": "ipython",
    "version": 3
   },
   "file_extension": ".py",
   "mimetype": "text/x-python",
   "name": "python",
   "nbconvert_exporter": "python",
   "pygments_lexer": "ipython3",
   "version": "3.8.5"
  }
 },
 "nbformat": 4,
 "nbformat_minor": 4
}
