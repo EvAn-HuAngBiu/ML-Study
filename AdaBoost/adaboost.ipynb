{
 "cells": [
  {
   "cell_type": "markdown",
   "metadata": {},
   "source": [
    "# AdaBoost算法的实现及库应用"
   ]
  },
  {
   "cell_type": "markdown",
   "metadata": {},
   "source": [
    "### 导入必要包"
   ]
  },
  {
   "cell_type": "code",
   "execution_count": 1,
   "metadata": {},
   "outputs": [],
   "source": [
    "import numpy as np\n",
    "import pandas as pd\n",
    "from matplotlib import pyplot as plt"
   ]
  },
  {
   "cell_type": "markdown",
   "metadata": {},
   "source": [
    "### 加载测试数据\n",
    "数据格式为 **m** x **n** , 其中m为数据条数, n为数据维度 <br/>\n",
    "标签格式为 **m** x **1**"
   ]
  },
  {
   "cell_type": "code",
   "execution_count": 2,
   "metadata": {},
   "outputs": [
    {
     "data": {
      "text/plain": [
       "(5, 2)"
      ]
     },
     "execution_count": 2,
     "metadata": {},
     "output_type": "execute_result"
    }
   ],
   "source": [
    "def load_example_data():\n",
    "    data_mat = np.asarray([[1, 2.1], [2, 1.1], [1.3, 1], [1, 1], [2, 1]]).reshape((-1, 2))\n",
    "    label = np.asarray([1, 1, -1, -1, 1]).reshape((-1, 1))\n",
    "    return data_mat, label\n",
    "\n",
    "data_mat, label = load_example_data()\n",
    "data_mat.shape"
   ]
  },
  {
   "cell_type": "code",
   "execution_count": 3,
   "metadata": {},
   "outputs": [
    {
     "data": {
      "text/plain": [
       "(5, 1)"
      ]
     },
     "execution_count": 3,
     "metadata": {},
     "output_type": "execute_result"
    }
   ],
   "source": [
    "label.shape"
   ]
  },
  {
   "cell_type": "markdown",
   "metadata": {},
   "source": [
    "### 根据给定的大小标识符和阈值构建一个单层决策树\n",
    "输入的大小标识符(thresh_ineq)即lt或gt, 表示当前值小于(lt)或大于(gt)阈值(thresh_val)时将其分类为-1"
   ]
  },
  {
   "cell_type": "code",
   "execution_count": 4,
   "metadata": {},
   "outputs": [],
   "source": [
    "def stump_classify(data : np.ndarray, column_index : int, thresh_val : int, thresh_ineq : str):\n",
    "    ret_label = np.ones((data.shape[0], 1))\n",
    "    if thresh_ineq == 'lt':\n",
    "        ret_label[data[:, column_index] <= thresh_val] = -1.0\n",
    "    else:\n",
    "        ret_label[data[:, column_index] >= thresh_val] = -1.0\n",
    "    return ret_label"
   ]
  },
  {
   "cell_type": "markdown",
   "metadata": {},
   "source": [
    "### 测试输入"
   ]
  },
  {
   "cell_type": "code",
   "execution_count": 5,
   "metadata": {},
   "outputs": [
    {
     "data": {
      "text/plain": [
       "array([[-1.],\n",
       "       [-1.],\n",
       "       [-1.],\n",
       "       [ 1.],\n",
       "       [ 1.]])"
      ]
     },
     "execution_count": 5,
     "metadata": {},
     "output_type": "execute_result"
    }
   ],
   "source": [
    "stump_classify(np.asarray([1, 2, 3, 4, 5]).reshape((-1, 1)), 0, 3, 'lt')"
   ]
  },
  {
   "cell_type": "markdown",
   "metadata": {},
   "source": [
    "### 定义构造单层决策树的函数"
   ]
  },
  {
   "cell_type": "code",
   "execution_count": 6,
   "metadata": {},
   "outputs": [],
   "source": [
    "def build_stump_further(data : np.ndarray, label : np.ndarray, D : np.ndarray):\n",
    "    # m为数据条数, n为数据维度\n",
    "    m, n = data.shape\n",
    "    # 步长总数\n",
    "    num_steps = 10.0\n",
    "    # 最佳单层决策树的树桩\n",
    "    best_stump = {}\n",
    "    # 最佳分类预测器\n",
    "    best_class_est = np.zeros((m, 1))\n",
    "    # 最低误差\n",
    "    min_error = np.inf\n",
    "    # 第一层循环：对数据的所有维度找到一个最佳的单层决策树\n",
    "    for i in range(n):\n",
    "        range_min = data[:, i].min()\n",
    "        range_max = data[:, i].max()\n",
    "        # 单位步长\n",
    "        step_size = (range_max - range_min) / num_steps\n",
    "        # 第二层循环：对于当前维度下所有步长选择一个最佳的单层决策树\n",
    "        for j in range(-1, int(num_steps) + 1):\n",
    "            # 第三层循环：对于当前步长下小于和大于两种关系选择一个最佳的单层决策树\n",
    "            for in_equal in ['lt', 'gt']:\n",
    "                # 阈值，即起始值 + 步长\n",
    "                thresh_val = (range_min + float(j) * step_size)\n",
    "                # 当前决策树输出的预测值\n",
    "                predicted_val = stump_classify(data, i, thresh_val, in_equal)\n",
    "                err_arr = np.ones((m, 1))\n",
    "                # 对于分类正确的数据将其误差置0，否则为1\n",
    "                err_arr[predicted_val == label] = 0\n",
    "                # 总误差即预测错误的数据的总权重，转换为向量乘法即权重向量D点乘误差标识向量err_arr(相当于公式中的指示函数I(G(xi) != yi))\n",
    "                weighted_error = D.T @ err_arr\n",
    "                # 如果当前误差为最小误差则记录\n",
    "                if weighted_error < min_error:\n",
    "                    min_error = weighted_error\n",
    "                    best_class_est = predicted_val.copy()\n",
    "                    best_stump['dim'] = i\n",
    "                    best_stump['thresh'] = thresh_val\n",
    "                    best_stump['ineq'] = in_equal\n",
    "    return best_stump, min_error, best_class_est"
   ]
  },
  {
   "cell_type": "markdown",
   "metadata": {},
   "source": [
    "### 对测试数据应用计算一层决策树的结果"
   ]
  },
  {
   "cell_type": "code",
   "execution_count": 7,
   "metadata": {},
   "outputs": [
    {
     "data": {
      "text/plain": [
       "({'dim': 0, 'thresh': 1.3, 'ineq': 'lt'},\n",
       " array([[0.2]]),\n",
       " array([[-1.],\n",
       "        [ 1.],\n",
       "        [-1.],\n",
       "        [-1.],\n",
       "        [ 1.]]))"
      ]
     },
     "execution_count": 7,
     "metadata": {},
     "output_type": "execute_result"
    }
   ],
   "source": [
    "build_stump_further(data_mat, label, np.ones((data_mat.shape[0], 1)) / data_mat.shape[0])"
   ]
  },
  {
   "cell_type": "markdown",
   "metadata": {},
   "source": [
    "### AdaBoost训练函数\n",
    "将上述定义的单层决策树构造器应用到AdaBoost中，训练一个AdaBoost分类器"
   ]
  },
  {
   "cell_type": "code",
   "execution_count": 11,
   "metadata": {},
   "outputs": [
    {
     "data": {
      "text/plain": [
       "[{'dim': 0, 'thresh': 1.3, 'ineq': 'lt', 'alpha': 0.6931471805599453},\n",
       " {'dim': 1, 'thresh': 1.0, 'ineq': 'lt', 'alpha': 0.9729550745276565},\n",
       " {'dim': 0, 'thresh': 0.9, 'ineq': 'lt', 'alpha': 0.8958797346140273}]"
      ]
     },
     "execution_count": 11,
     "metadata": {},
     "output_type": "execute_result"
    }
   ],
   "source": [
    "def adaboost_train_ds(data_mat : np.ndarray, label : np.ndarray, max_iter : int):\n",
    "    # 弱分类器的集合\n",
    "    weak_classifier = []\n",
    "    m = data_mat.shape[0]\n",
    "    # 初始权重值等于1/N\n",
    "    D = np.ones((m, 1)) / m\n",
    "    # 初始分类结果，默认全为0\n",
    "    agg_class_est = np.zeros((m, 1))\n",
    "    for i in range(max_iter):\n",
    "        # 获取最佳分类器\n",
    "        best_stump, error, class_est = build_stump_further(data_mat, label, D)\n",
    "        # 计算alpha值, alpha = 1/2*(log((1-e)/e))\n",
    "        # max函数是为了保证分母不出现除零错误\n",
    "        alpha = float(0.5 * np.log((1 - error) / max(error, 1e-16)))\n",
    "        best_stump['alpha'] = alpha\n",
    "        # 记录当前弱分类器\n",
    "        weak_classifier.append(best_stump)\n",
    "        # 计算下一轮的权重值, 这里先计算了exp(-alpha*y*G(x))\n",
    "        expon = np.multiply(-alpha * label, class_est)\n",
    "        # 然后计算没有规范化因子的D\n",
    "        D = np.multiply(D, np.exp(expon))\n",
    "        # 权重向量D的所有元素和就是规范化因子Zm\n",
    "        D = D / D.sum()\n",
    "        # 根据算出的alpha计算当前预测值\n",
    "        agg_class_est += alpha * class_est\n",
    "        # 预测和实际不相同的则为1，否则为0，agg_errors也就表示错误标识向量\n",
    "        agg_errors = np.multiply(np.sign(agg_class_est) != label, np.ones((m, 1)))\n",
    "        error_rate = agg_errors.sum() / m\n",
    "        # 错误率为0时退出循环\n",
    "        if error_rate == 0.0:\n",
    "            break\n",
    "    return weak_classifier\n",
    "\n"
   ]
  },
  {
   "cell_type": "markdown",
   "metadata": {},
   "source": [
    "### 测试分类器, 可以得到所有的弱分类器集合, 按照加法原则累加就可以得到一个最终的分类器"
   ]
  },
  {
   "cell_type": "code",
   "execution_count": 17,
   "metadata": {},
   "outputs": [
    {
     "data": {
      "text/plain": [
       "[{'dim': 0, 'thresh': 1.3, 'ineq': 'lt', 'alpha': 0.6931471805599453},\n",
       " {'dim': 1, 'thresh': 1.0, 'ineq': 'lt', 'alpha': 0.9729550745276565},\n",
       " {'dim': 0, 'thresh': 0.9, 'ineq': 'lt', 'alpha': 0.8958797346140273}]"
      ]
     },
     "execution_count": 17,
     "metadata": {},
     "output_type": "execute_result"
    }
   ],
   "source": [
    "weak_classifier = adaboost_train_ds(data_mat, label, 10)\n",
    "weak_classifier"
   ]
  },
  {
   "cell_type": "markdown",
   "metadata": {},
   "source": [
    "### 构造分类器, 给定输入点（维度需与训练集中的点一致), 经过弱分类器的加法原则后得到的符号即为最终的分类结果"
   ]
  },
  {
   "cell_type": "code",
   "execution_count": 14,
   "metadata": {},
   "outputs": [],
   "source": [
    "def ada_classify(data_to_classify, classifier_arr):\n",
    "    m = data_to_classify.shape[0]\n",
    "    agg_class_est = np.zeros((m, 1))\n",
    "    for i in range(len(classifier_arr)):\n",
    "        class_est = stump_classify(data_to_classify, classifier_arr[i]['dim'], classifier_arr[i]['thresh'],\n",
    "                                  classifier_arr[i]['ineq'])\n",
    "        agg_class_est += classifier_arr[i]['alpha'] * class_est\n",
    "        print(agg_class_est)\n",
    "    return np.sign(agg_class_est)"
   ]
  },
  {
   "cell_type": "code",
   "execution_count": 16,
   "metadata": {},
   "outputs": [
    {
     "name": "stdout",
     "output_type": "stream",
     "text": [
      "[[-0.69314718]]\n",
      "[[-1.66610226]]\n",
      "[[-2.56198199]]\n"
     ]
    },
    {
     "data": {
      "text/plain": [
       "array([[-1.]])"
      ]
     },
     "execution_count": 16,
     "metadata": {},
     "output_type": "execute_result"
    }
   ],
   "source": [
    "ada_classify(np.asarray([[0, 0]]), weak_classifier)"
   ]
  },
  {
   "cell_type": "markdown",
   "metadata": {},
   "source": [
    "## 使用sklearn库中的AdaBoostClassifier"
   ]
  },
  {
   "cell_type": "markdown",
   "metadata": {},
   "source": [
    "### 绘制散点图"
   ]
  },
  {
   "cell_type": "code",
   "execution_count": 23,
   "metadata": {},
   "outputs": [
    {
     "data": {
      "text/plain": [
       "<matplotlib.collections.PathCollection at 0x7ff950338fd0>"
      ]
     },
     "execution_count": 23,
     "metadata": {},
     "output_type": "execute_result"
    },
    {
     "data": {
      "image/png": "[encoded data removed]",
      "text/plain": [
       "<Figure size 432x288 with 1 Axes>"
      ]
     },
     "metadata": {
      "needs_background": "light"
     },
     "output_type": "display_data"
    }
   ],
   "source": [
    "from matplotlib import pyplot as plt\n",
    "plt.scatter(data_mat[:, 0], data_mat[:, 1], marker='o', c=label.ravel())"
   ]
  },
  {
   "cell_type": "markdown",
   "metadata": {},
   "source": [
    "### 构建分类器模型并评分"
   ]
  },
  {
   "cell_type": "code",
   "execution_count": 21,
   "metadata": {},
   "outputs": [
    {
     "data": {
      "text/plain": [
       "1.0"
      ]
     },
     "execution_count": 21,
     "metadata": {},
     "output_type": "execute_result"
    }
   ],
   "source": [
    "from sklearn.tree import DecisionTreeClassifier\n",
    "from sklearn.ensemble import AdaBoostClassifier\n",
    "\n",
    "bdt = AdaBoostClassifier(DecisionTreeClassifier(max_depth=2), algorithm='SAMME', n_estimators=200, learning_rate=0.8)\n",
    "bdt.fit(data_mat, label.ravel())\n",
    "bdt.score(data_mat, label.ravel())"
   ]
  },
  {
   "cell_type": "code",
   "execution_count": 28,
   "metadata": {},
   "outputs": [
    {
     "data": {
      "text/plain": [
       "array([-1])"
      ]
     },
     "execution_count": 28,
     "metadata": {},
     "output_type": "execute_result"
    }
   ],
   "source": [
    "bdt.predict(np.asarray([[0, 0]]))"
   ]
  },
  {
   "cell_type": "markdown",
   "metadata": {},
   "source": [
    "### 根据分类器绘制网格图"
   ]
  },
  {
   "cell_type": "code",
   "execution_count": 26,
   "metadata": {},
   "outputs": [
    {
     "data": {
      "text/plain": [
       "<matplotlib.collections.PathCollection at 0x7ff94fbed940>"
      ]
     },
     "execution_count": 26,
     "metadata": {},
     "output_type": "execute_result"
    },
    {
     "data": {
      "image/png": "[encoded data removed]",
      "text/plain": [
       "<Figure size 432x288 with 1 Axes>"
      ]
     },
     "metadata": {
      "needs_background": "light"
     },
     "output_type": "display_data"
    }
   ],
   "source": [
    "x_min, x_max = data_mat[:, 0].min() - 1, data_mat[:, 0].max() + 1\n",
    "y_min, y_max = data_mat[:, 1].min() - 1, data_mat[:, 1].max() + 1\n",
    "xx, yy = np.meshgrid(np.arange(x_min, x_max, 0.02), np.arange(y_min, y_max, 0.02))\n",
    "Z = bdt.predict(np.c_[xx.ravel(), yy.ravel()])\n",
    "Z = Z.reshape(xx.shape)\n",
    "cs = plt.contourf(xx, yy, Z, cmap=plt.cm.Paired)\n",
    "plt.scatter(data_mat[:, 0], data_mat[:, 1], marker='o', c=label)"
   ]
  },
  {
   "cell_type": "markdown",
   "metadata": {},
   "source": []
  }
 ],
 "metadata": {
  "kernelspec": {
   "display_name": "Python 3",
   "language": "python",
   "name": "python3"
  },
  "language_info": {
   "codemirror_mode": {
    "name": "ipython",
    "version": 3
   },
   "file_extension": ".py",
   "mimetype": "text/x-python",
   "name": "python",
   "nbconvert_exporter": "python",
   "pygments_lexer": "ipython3",
   "version": "3.8.5"
  }
 },
 "nbformat": 4,
 "nbformat_minor": 4
}
